{
 "cells": [
  {
   "cell_type": "code",
   "execution_count": 1,
   "id": "bd8e1bc6-5366-414b-8f29-bffce532d7f1",
   "metadata": {},
   "outputs": [
    {
     "name": "stdout",
     "output_type": "stream",
     "text": [
      "ZIP file extracted to 'GermanExtractedFiles'!\n"
     ]
    }
   ],
   "source": [
    "import zipfile\n",
    "import os\n",
    "from PIL import Image\n",
    "import numpy as np\n",
    "\n",
    "# Step 1: Extract the ZIP file\n",
    "zip_file_path = 'GTSDB - German Traffic Sign Detection Benchmark.zip'  # Replace with your ZIP file path\n",
    "extract_dir = 'GermanExtractedFiles'  # Directory to extract files\n",
    "\n",
    "# Extract the ZIP file\n",
    "if not os.path.exists(extract_dir):  # Avoid re-extraction if already done\n",
    "    with zipfile.ZipFile(zip_file_path, 'r') as zip_ref:\n",
    "        zip_ref.extractall(extract_dir)\n",
    "    print(f\"ZIP file extracted to '{extract_dir}'!\")\n",
    "else:\n",
    "    print(f\"Directory '{extract_dir}' already exists. Skipping extraction.\")"
   ]
  },
  {
   "cell_type": "code",
   "execution_count": 25,
   "id": "f0bbd191-c95b-40f6-89c8-de384bda7945",
   "metadata": {},
   "outputs": [
    {
     "name": "stdout",
     "output_type": "stream",
     "text": [
      "Found 301 files. Sample files: ['00000.ppm', '00001.ppm', '00002.ppm', '00003.ppm', '00004.ppm', '00005.ppm', '00006.ppm', '00007.ppm', '00008.ppm', '00009.ppm', '00010.ppm', '00011.ppm', '00012.ppm', '00013.ppm', '00014.ppm', '00015.ppm', '00016.ppm', '00017.ppm', '00018.ppm', '00019.ppm', '00020.ppm', '00021.ppm', '00022.ppm', '00023.ppm', '00024.ppm', '00025.ppm', '00026.ppm', '00027.ppm', '00028.ppm', '00029.ppm', '00030.ppm', '00031.ppm', '00032.ppm', '00033.ppm', '00034.ppm', '00035.ppm', '00036.ppm', '00037.ppm', '00038.ppm', '00039.ppm', '00040.ppm', '00041.ppm', '00042.ppm', '00043.ppm', '00044.ppm', '00045.ppm', '00046.ppm', '00047.ppm', '00048.ppm', '00049.ppm', '00050.ppm', '00051.ppm', '00052.ppm', '00053.ppm', '00054.ppm', '00055.ppm', '00056.ppm', '00057.ppm', '00058.ppm', '00059.ppm', '00060.ppm', '00061.ppm', '00062.ppm', '00063.ppm', '00064.ppm', '00065.ppm', '00066.ppm', '00067.ppm', '00068.ppm', '00069.ppm', '00070.ppm', '00071.ppm', '00072.ppm', '00073.ppm', '00074.ppm', '00075.ppm', '00076.ppm', '00077.ppm', '00078.ppm', '00079.ppm', '00080.ppm', '00081.ppm', '00082.ppm', '00083.ppm', '00084.ppm', '00085.ppm', '00086.ppm', '00087.ppm', '00088.ppm', '00089.ppm', '00090.ppm', '00091.ppm', '00092.ppm', '00093.ppm', '00094.ppm', '00095.ppm', '00096.ppm', '00097.ppm', '00098.ppm', '00099.ppm', '00100.ppm', '00101.ppm', '00102.ppm', '00103.ppm', '00104.ppm', '00105.ppm', '00106.ppm', '00107.ppm', '00108.ppm', '00109.ppm', '00110.ppm', '00111.ppm', '00112.ppm', '00113.ppm', '00114.ppm', '00115.ppm', '00116.ppm', '00117.ppm', '00118.ppm', '00119.ppm', '00120.ppm', '00121.ppm', '00122.ppm', '00123.ppm', '00124.ppm', '00125.ppm', '00126.ppm', '00127.ppm', '00128.ppm', '00129.ppm', '00130.ppm', '00131.ppm', '00132.ppm', '00133.ppm', '00134.ppm', '00135.ppm', '00136.ppm', '00137.ppm', '00138.ppm', '00139.ppm', '00140.ppm', '00141.ppm', '00142.ppm', '00143.ppm', '00144.ppm', '00145.ppm', '00146.ppm', '00147.ppm', '00148.ppm', '00149.ppm', '00150.ppm', '00151.ppm', '00152.ppm', '00153.ppm', '00154.ppm', '00155.ppm', '00156.ppm', '00157.ppm', '00158.ppm', '00159.ppm', '00160.ppm', '00161.ppm', '00162.ppm', '00163.ppm', '00164.ppm', '00165.ppm', '00166.ppm', '00167.ppm', '00168.ppm', '00169.ppm', '00170.ppm', '00171.ppm', '00172.ppm', '00173.ppm', '00174.ppm', '00175.ppm', '00176.ppm', '00177.ppm', '00178.ppm', '00179.ppm', '00180.ppm', '00181.ppm', '00182.ppm', '00183.ppm', '00184.ppm', '00185.ppm', '00186.ppm', '00187.ppm', '00188.ppm', '00189.ppm', '00190.ppm', '00191.ppm', '00192.ppm', '00193.ppm', '00194.ppm', '00195.ppm', '00196.ppm', '00197.ppm', '00198.ppm', '00199.ppm', '00200.ppm', '00201.ppm', '00202.ppm', '00203.ppm', '00204.ppm', '00205.ppm', '00206.ppm', '00207.ppm', '00208.ppm', '00209.ppm', '00210.ppm', '00211.ppm', '00212.ppm', '00213.ppm', '00214.ppm', '00215.ppm', '00216.ppm', '00217.ppm', '00218.ppm', '00219.ppm', '00220.ppm', '00221.ppm', '00222.ppm', '00223.ppm', '00224.ppm', '00225.ppm', '00226.ppm', '00227.ppm', '00228.ppm', '00229.ppm', '00230.ppm', '00231.ppm', '00232.ppm', '00233.ppm', '00234.ppm', '00235.ppm', '00236.ppm', '00237.ppm', '00238.ppm', '00239.ppm', '00240.ppm', '00241.ppm', '00242.ppm', '00243.ppm', '00244.ppm', '00245.ppm', '00246.ppm', '00247.ppm', '00248.ppm', '00249.ppm', '00250.ppm', '00251.ppm', '00252.ppm', '00253.ppm', '00254.ppm', '00255.ppm', '00256.ppm', '00257.ppm', '00258.ppm', '00259.ppm', '00260.ppm', '00261.ppm', '00262.ppm', '00263.ppm', '00264.ppm', '00265.ppm', '00266.ppm', '00267.ppm', '00268.ppm', '00269.ppm', '00270.ppm', '00271.ppm', '00272.ppm', '00273.ppm', '00274.ppm', '00275.ppm', '00276.ppm', '00277.ppm', '00278.ppm', '00279.ppm', '00280.ppm', '00281.ppm', '00282.ppm', '00283.ppm', '00284.ppm', '00285.ppm', '00286.ppm', '00287.ppm', '00288.ppm', '00289.ppm', '00290.ppm', '00291.ppm', '00292.ppm', '00293.ppm', '00294.ppm', '00295.ppm', '00296.ppm', '00297.ppm', '00298.ppm', '00299.ppm', 'ReadMe.txt']\n"
     ]
    }
   ],
   "source": [
    "import os\n",
    "\n",
    "# Define dataset path\n",
    "dataset_path = \"GermanExtractedFiles/TestIJCNN2013/TestIJCNN2013Download\"\n",
    "\n",
    "# List available files\n",
    "image_files = [f for f in os.listdir(dataset_path)]\n",
    "print(f\"Found {len(image_files)} files. Sample files: {image_files[:301]}\")\n"
   ]
  },
  {
   "cell_type": "code",
   "execution_count": 31,
   "id": "4502cca7-007b-458a-99ec-a44027c6bf71",
   "metadata": {},
   "outputs": [
    {
     "name": "stdout",
     "output_type": "stream",
     "text": [
      "Found 646 files. Sample files: ['00', '00000.ppm', '00001.ppm', '00002.ppm', '00003.ppm', '00004.ppm', '00005.ppm', '00006.ppm', '00007.ppm', '00008.ppm', '00009.ppm', '00010.ppm', '00011.ppm', '00012.ppm', '00013.ppm', '00014.ppm', '00015.ppm', '00016.ppm', '00017.ppm', '00018.ppm', '00019.ppm', '00020.ppm', '00021.ppm', '00022.ppm', '00023.ppm', '00024.ppm', '00025.ppm', '00026.ppm', '00027.ppm', '00028.ppm', '00029.ppm', '00030.ppm', '00031.ppm', '00032.ppm', '00033.ppm', '00034.ppm', '00035.ppm', '00036.ppm', '00037.ppm', '00038.ppm', '00039.ppm', '00040.ppm', '00041.ppm', '00042.ppm', '00043.ppm', '00044.ppm', '00045.ppm', '00046.ppm', '00047.ppm', '00048.ppm', '00049.ppm', '00050.ppm', '00051.ppm', '00052.ppm', '00053.ppm', '00054.ppm', '00055.ppm', '00056.ppm', '00057.ppm', '00058.ppm', '00059.ppm', '00060.ppm', '00061.ppm', '00062.ppm', '00063.ppm', '00064.ppm', '00065.ppm', '00066.ppm', '00067.ppm', '00068.ppm', '00069.ppm', '00070.ppm', '00071.ppm', '00072.ppm', '00073.ppm', '00074.ppm', '00075.ppm', '00076.ppm', '00077.ppm', '00078.ppm', '00079.ppm', '00080.ppm', '00081.ppm', '00082.ppm', '00083.ppm', '00084.ppm', '00085.ppm', '00086.ppm', '00087.ppm', '00088.ppm', '00089.ppm', '00090.ppm', '00091.ppm', '00092.ppm', '00093.ppm', '00094.ppm', '00095.ppm', '00096.ppm', '00097.ppm', '00098.ppm', '00099.ppm', '00100.ppm', '00101.ppm', '00102.ppm', '00103.ppm', '00104.ppm', '00105.ppm', '00106.ppm', '00107.ppm', '00108.ppm', '00109.ppm', '00110.ppm', '00111.ppm', '00112.ppm', '00113.ppm', '00114.ppm', '00115.ppm', '00116.ppm', '00117.ppm', '00118.ppm', '00119.ppm', '00120.ppm', '00121.ppm', '00122.ppm', '00123.ppm', '00124.ppm', '00125.ppm', '00126.ppm', '00127.ppm', '00128.ppm', '00129.ppm', '00130.ppm', '00131.ppm', '00132.ppm', '00133.ppm', '00134.ppm', '00135.ppm', '00136.ppm', '00137.ppm', '00138.ppm', '00139.ppm', '00140.ppm', '00141.ppm', '00142.ppm', '00143.ppm', '00144.ppm', '00145.ppm', '00146.ppm', '00147.ppm', '00148.ppm', '00149.ppm', '00150.ppm', '00151.ppm', '00152.ppm', '00153.ppm', '00154.ppm', '00155.ppm', '00156.ppm', '00157.ppm', '00158.ppm', '00159.ppm', '00160.ppm', '00161.ppm', '00162.ppm', '00163.ppm', '00164.ppm', '00165.ppm', '00166.ppm', '00167.ppm', '00168.ppm', '00169.ppm', '00170.ppm', '00171.ppm', '00172.ppm', '00173.ppm', '00174.ppm', '00175.ppm', '00176.ppm', '00177.ppm', '00178.ppm', '00179.ppm', '00180.ppm', '00181.ppm', '00182.ppm', '00183.ppm', '00184.ppm', '00185.ppm', '00186.ppm', '00187.ppm', '00188.ppm', '00189.ppm', '00190.ppm', '00191.ppm', '00192.ppm', '00193.ppm', '00194.ppm', '00195.ppm', '00196.ppm', '00197.ppm', '00198.ppm', '00199.ppm', '00200.ppm', '00201.ppm', '00202.ppm', '00203.ppm', '00204.ppm', '00205.ppm', '00206.ppm', '00207.ppm', '00208.ppm', '00209.ppm', '00210.ppm', '00211.ppm', '00212.ppm', '00213.ppm', '00214.ppm', '00215.ppm', '00216.ppm', '00217.ppm', '00218.ppm', '00219.ppm', '00220.ppm', '00221.ppm', '00222.ppm', '00223.ppm', '00224.ppm', '00225.ppm', '00226.ppm', '00227.ppm', '00228.ppm', '00229.ppm', '00230.ppm', '00231.ppm', '00232.ppm', '00233.ppm', '00234.ppm', '00235.ppm', '00236.ppm', '00237.ppm', '00238.ppm', '00239.ppm', '00240.ppm', '00241.ppm', '00242.ppm', '00243.ppm', '00244.ppm', '00245.ppm', '00246.ppm', '00247.ppm', '00248.ppm', '00249.ppm', '00250.ppm', '00251.ppm', '00252.ppm', '00253.ppm', '00254.ppm', '00255.ppm', '00256.ppm', '00257.ppm', '00258.ppm', '00259.ppm', '00260.ppm', '00261.ppm', '00262.ppm', '00263.ppm', '00264.ppm', '00265.ppm', '00266.ppm', '00267.ppm', '00268.ppm', '00269.ppm', '00270.ppm', '00271.ppm', '00272.ppm', '00273.ppm', '00274.ppm', '00275.ppm', '00276.ppm', '00277.ppm', '00278.ppm', '00279.ppm', '00280.ppm', '00281.ppm', '00282.ppm', '00283.ppm', '00284.ppm', '00285.ppm', '00286.ppm', '00287.ppm', '00288.ppm', '00289.ppm', '00290.ppm', '00291.ppm', '00292.ppm', '00293.ppm', '00294.ppm', '00295.ppm', '00296.ppm', '00297.ppm', '00298.ppm', '00299.ppm', '00300.ppm', '00301.ppm', '00302.ppm', '00303.ppm', '00304.ppm', '00305.ppm', '00306.ppm', '00307.ppm', '00308.ppm', '00309.ppm', '00310.ppm', '00311.ppm', '00312.ppm', '00313.ppm', '00314.ppm', '00315.ppm', '00316.ppm', '00317.ppm', '00318.ppm', '00319.ppm', '00320.ppm', '00321.ppm', '00322.ppm', '00323.ppm', '00324.ppm', '00325.ppm', '00326.ppm', '00327.ppm', '00328.ppm', '00329.ppm', '00330.ppm', '00331.ppm', '00332.ppm', '00333.ppm', '00334.ppm', '00335.ppm', '00336.ppm', '00337.ppm', '00338.ppm', '00339.ppm', '00340.ppm', '00341.ppm', '00342.ppm', '00343.ppm', '00344.ppm', '00345.ppm', '00346.ppm', '00347.ppm', '00348.ppm', '00349.ppm', '00350.ppm', '00351.ppm', '00352.ppm', '00353.ppm', '00354.ppm', '00355.ppm', '00356.ppm', '00357.ppm', '00358.ppm', '00359.ppm', '00360.ppm', '00361.ppm', '00362.ppm', '00363.ppm', '00364.ppm', '00365.ppm', '00366.ppm', '00367.ppm', '00368.ppm', '00369.ppm', '00370.ppm', '00371.ppm', '00372.ppm', '00373.ppm', '00374.ppm', '00375.ppm', '00376.ppm', '00377.ppm', '00378.ppm', '00379.ppm', '00380.ppm', '00381.ppm', '00382.ppm', '00383.ppm', '00384.ppm', '00385.ppm', '00386.ppm', '00387.ppm', '00388.ppm', '00389.ppm', '00390.ppm', '00391.ppm', '00392.ppm', '00393.ppm', '00394.ppm', '00395.ppm', '00396.ppm', '00397.ppm', '00398.ppm', '00399.ppm', '00400.ppm', '00401.ppm', '00402.ppm', '00403.ppm', '00404.ppm', '00405.ppm', '00406.ppm', '00407.ppm', '00408.ppm', '00409.ppm', '00410.ppm', '00411.ppm', '00412.ppm', '00413.ppm', '00414.ppm', '00415.ppm', '00416.ppm', '00417.ppm', '00418.ppm', '00419.ppm', '00420.ppm', '00421.ppm', '00422.ppm', '00423.ppm', '00424.ppm', '00425.ppm', '00426.ppm', '00427.ppm', '00428.ppm', '00429.ppm', '00430.ppm', '00431.ppm', '00432.ppm', '00433.ppm', '00434.ppm', '00435.ppm', '00436.ppm', '00437.ppm', '00438.ppm', '00439.ppm', '00440.ppm', '00441.ppm', '00442.ppm', '00443.ppm', '00444.ppm', '00445.ppm', '00446.ppm', '00447.ppm', '00448.ppm', '00449.ppm', '00450.ppm', '00451.ppm', '00452.ppm', '00453.ppm', '00454.ppm', '00455.ppm', '00456.ppm', '00457.ppm', '00458.ppm', '00459.ppm', '00460.ppm', '00461.ppm', '00462.ppm', '00463.ppm', '00464.ppm', '00465.ppm', '00466.ppm', '00467.ppm', '00468.ppm', '00469.ppm', '00470.ppm', '00471.ppm', '00472.ppm', '00473.ppm', '00474.ppm', '00475.ppm', '00476.ppm', '00477.ppm', '00478.ppm', '00479.ppm', '00480.ppm', '00481.ppm', '00482.ppm', '00483.ppm', '00484.ppm', '00485.ppm', '00486.ppm', '00487.ppm', '00488.ppm', '00489.ppm', '00490.ppm', '00491.ppm', '00492.ppm', '00493.ppm', '00494.ppm', '00495.ppm', '00496.ppm', '00497.ppm', '00498.ppm', '00499.ppm', '00500.ppm', '00501.ppm', '00502.ppm', '00503.ppm', '00504.ppm', '00505.ppm', '00506.ppm', '00507.ppm', '00508.ppm', '00509.ppm', '00510.ppm', '00511.ppm', '00512.ppm', '00513.ppm', '00514.ppm', '00515.ppm', '00516.ppm', '00517.ppm', '00518.ppm', '00519.ppm', '00520.ppm', '00521.ppm', '00522.ppm', '00523.ppm', '00524.ppm', '00525.ppm', '00526.ppm', '00527.ppm', '00528.ppm', '00529.ppm', '00530.ppm', '00531.ppm', '00532.ppm', '00533.ppm', '00534.ppm', '00535.ppm', '00536.ppm', '00537.ppm', '00538.ppm', '00539.ppm', '00540.ppm', '00541.ppm', '00542.ppm', '00543.ppm', '00544.ppm', '00545.ppm', '00546.ppm', '00547.ppm', '00548.ppm', '00549.ppm', '00550.ppm', '00551.ppm', '00552.ppm', '00553.ppm', '00554.ppm', '00555.ppm', '00556.ppm', '00557.ppm', '00558.ppm', '00559.ppm', '00560.ppm', '00561.ppm', '00562.ppm', '00563.ppm', '00564.ppm', '00565.ppm', '00566.ppm', '00567.ppm', '00568.ppm', '00569.ppm', '00570.ppm', '00571.ppm', '00572.ppm', '00573.ppm', '00574.ppm', '00575.ppm', '00576.ppm', '00577.ppm', '00578.ppm', '00579.ppm', '00580.ppm', '00581.ppm', '00582.ppm', '00583.ppm', '00584.ppm', '00585.ppm', '00586.ppm', '00587.ppm', '00588.ppm', '00589.ppm', '00590.ppm', '00591.ppm', '00592.ppm', '00593.ppm', '00594.ppm', '00595.ppm', '00596.ppm', '00597.ppm', '00598.ppm', '00599.ppm', '01', '02', '03', '04', '05', '06', '07', '08', '09', '10', '11', '12', '13', '14', '15', '16', '17', '18', '19', '20', '21', '22', '23', '24', '25', '26', '27', '28', '29', '30', '31', '32', '33', '34', '35', '36', '37', '38', '39', '40', '41', '42', 'ex.txt', 'gt.txt', 'ReadMe.txt']\n"
     ]
    }
   ],
   "source": [
    "import os\n",
    "\n",
    "# Define dataset path\n",
    "dataset_path = \"GermanExtractedFiles/TrainIJCNN2013/TrainIJCNN2013/\"\n",
    "\n",
    "# List available files\n",
    "image_files = [f for f in os.listdir(dataset_path)]\n",
    "print(f\"Found {len(image_files)} files. Sample files: {image_files[:646]}\")\n"
   ]
  },
  {
   "cell_type": "code",
   "execution_count": 47,
   "id": "fb88cfce-71f3-44e3-93aa-deee52f66285",
   "metadata": {},
   "outputs": [
    {
     "name": "stdout",
     "output_type": "stream",
     "text": [
      "Scanning directory: GermanExtractedFiles/TrainIJCNN2013/TrainIJCNN2013/, Found 603 files\n",
      "Scanning directory: GermanExtractedFiles/TrainIJCNN2013/TrainIJCNN2013/00, Found 4 files\n",
      "Scanning directory: GermanExtractedFiles/TrainIJCNN2013/TrainIJCNN2013/01, Found 48 files\n",
      "Scanning directory: GermanExtractedFiles/TrainIJCNN2013/TrainIJCNN2013/02, Found 59 files\n",
      "Scanning directory: GermanExtractedFiles/TrainIJCNN2013/TrainIJCNN2013/03, Found 21 files\n",
      "Scanning directory: GermanExtractedFiles/TrainIJCNN2013/TrainIJCNN2013/04, Found 31 files\n",
      "Scanning directory: GermanExtractedFiles/TrainIJCNN2013/TrainIJCNN2013/05, Found 37 files\n",
      "Scanning directory: GermanExtractedFiles/TrainIJCNN2013/TrainIJCNN2013/06, Found 17 files\n",
      "Scanning directory: GermanExtractedFiles/TrainIJCNN2013/TrainIJCNN2013/07, Found 37 files\n",
      "Scanning directory: GermanExtractedFiles/TrainIJCNN2013/TrainIJCNN2013/08, Found 47 files\n",
      "Scanning directory: GermanExtractedFiles/TrainIJCNN2013/TrainIJCNN2013/09, Found 32 files\n",
      "Scanning directory: GermanExtractedFiles/TrainIJCNN2013/TrainIJCNN2013/10, Found 63 files\n",
      "Scanning directory: GermanExtractedFiles/TrainIJCNN2013/TrainIJCNN2013/11, Found 26 files\n",
      "Scanning directory: GermanExtractedFiles/TrainIJCNN2013/TrainIJCNN2013/12, Found 54 files\n",
      "Scanning directory: GermanExtractedFiles/TrainIJCNN2013/TrainIJCNN2013/13, Found 52 files\n",
      "Scanning directory: GermanExtractedFiles/TrainIJCNN2013/TrainIJCNN2013/14, Found 22 files\n",
      "Scanning directory: GermanExtractedFiles/TrainIJCNN2013/TrainIJCNN2013/15, Found 10 files\n",
      "Scanning directory: GermanExtractedFiles/TrainIJCNN2013/TrainIJCNN2013/16, Found 7 files\n",
      "Scanning directory: GermanExtractedFiles/TrainIJCNN2013/TrainIJCNN2013/17, Found 25 files\n",
      "Scanning directory: GermanExtractedFiles/TrainIJCNN2013/TrainIJCNN2013/18, Found 27 files\n",
      "Scanning directory: GermanExtractedFiles/TrainIJCNN2013/TrainIJCNN2013/19, Found 2 files\n",
      "Scanning directory: GermanExtractedFiles/TrainIJCNN2013/TrainIJCNN2013/20, Found 9 files\n",
      "Scanning directory: GermanExtractedFiles/TrainIJCNN2013/TrainIJCNN2013/21, Found 5 files\n",
      "Scanning directory: GermanExtractedFiles/TrainIJCNN2013/TrainIJCNN2013/22, Found 9 files\n",
      "Scanning directory: GermanExtractedFiles/TrainIJCNN2013/TrainIJCNN2013/23, Found 13 files\n",
      "Scanning directory: GermanExtractedFiles/TrainIJCNN2013/TrainIJCNN2013/24, Found 2 files\n",
      "Scanning directory: GermanExtractedFiles/TrainIJCNN2013/TrainIJCNN2013/25, Found 21 files\n",
      "Scanning directory: GermanExtractedFiles/TrainIJCNN2013/TrainIJCNN2013/26, Found 11 files\n",
      "Scanning directory: GermanExtractedFiles/TrainIJCNN2013/TrainIJCNN2013/27, Found 3 files\n",
      "Scanning directory: GermanExtractedFiles/TrainIJCNN2013/TrainIJCNN2013/28, Found 9 files\n",
      "Scanning directory: GermanExtractedFiles/TrainIJCNN2013/TrainIJCNN2013/29, Found 4 files\n",
      "Scanning directory: GermanExtractedFiles/TrainIJCNN2013/TrainIJCNN2013/30, Found 14 files\n",
      "Scanning directory: GermanExtractedFiles/TrainIJCNN2013/TrainIJCNN2013/31, Found 1 files\n",
      "Scanning directory: GermanExtractedFiles/TrainIJCNN2013/TrainIJCNN2013/32, Found 3 files\n",
      "Scanning directory: GermanExtractedFiles/TrainIJCNN2013/TrainIJCNN2013/33, Found 13 files\n",
      "Scanning directory: GermanExtractedFiles/TrainIJCNN2013/TrainIJCNN2013/34, Found 9 files\n",
      "Scanning directory: GermanExtractedFiles/TrainIJCNN2013/TrainIJCNN2013/35, Found 15 files\n",
      "Scanning directory: GermanExtractedFiles/TrainIJCNN2013/TrainIJCNN2013/36, Found 8 files\n",
      "Scanning directory: GermanExtractedFiles/TrainIJCNN2013/TrainIJCNN2013/37, Found 1 files\n",
      "Scanning directory: GermanExtractedFiles/TrainIJCNN2013/TrainIJCNN2013/38, Found 57 files\n",
      "Scanning directory: GermanExtractedFiles/TrainIJCNN2013/TrainIJCNN2013/39, Found 4 files\n",
      "Scanning directory: GermanExtractedFiles/TrainIJCNN2013/TrainIJCNN2013/40, Found 8 files\n",
      "Scanning directory: GermanExtractedFiles/TrainIJCNN2013/TrainIJCNN2013/41, Found 6 files\n",
      "Scanning directory: GermanExtractedFiles/TrainIJCNN2013/TrainIJCNN2013/42, Found 7 files\n",
      "No images were loaded. Check the dataset path and file formats.\n"
     ]
    }
   ],
   "source": [
    "# Step 2: Load and preprocess images\n",
    "image_size = (128, 128)  # Resize all images to 128x128\n",
    "images = []\n",
    "labels = []\n",
    "\n",
    "# Debug: Check if the dataset folder exists\n",
    "if not os.path.exists(dataset_path):\n",
    "    print(f\"Error: Dataset folder '{dataset_path}' not found!\")\n",
    "\n",
    "# Loop through extracted files\n",
    "for root, dirs, files in os.walk(dataset_path):\n",
    "    print(f\"Scanning directory: {root}, Found {len(files)} files\")  # Debugging line\n",
    "    for file_name in files:\n",
    "        if file_name.lower().endswith(('.jpg', '.png', '.jpeg')):  # Support more formats\n",
    "            file_path = os.path.join(root, file_name)\n",
    "\n",
    "            try:\n",
    "                # Load the image\n",
    "                image = Image.open(file_path).convert('RGB')  \n",
    "                \n",
    "                # Resize the image\n",
    "                image = image.resize(image_size)\n",
    "\n",
    "                # Convert the image to a NumPy array\n",
    "                image_array = np.array(image) / 255.0  \n",
    "                images.append(image_array)\n",
    "\n",
    "                # Extract label from folder name\n",
    "                label = os.path.basename(root)  \n",
    "                labels.append(label)\n",
    "            except Exception as e:\n",
    "                print(f\"Error loading image {file_path}: {e}\")\n",
    "\n",
    "# Convert to NumPy arrays\n",
    "images = np.array(images)\n",
    "labels = np.array(labels)\n",
    "\n",
    "# Step 3: Print dataset summary\n",
    "if len(images) > 0:\n",
    "    print(f\"Total images loaded: {len(images)}\")\n",
    "    print(f\"Image shape: {images[0].shape} (Each image is resized to {image_size})\")\n",
    "    print(f\"Unique labels: {set(labels)}\")\n",
    "else:\n",
    "    print(\"No images were loaded. Check the dataset path and file formats.\")"
   ]
  },
  {
   "cell_type": "code",
   "execution_count": 65,
   "id": "77882f91-3196-4a4c-8574-9e7feb33b684",
   "metadata": {},
   "outputs": [],
   "source": [
    "def preprocess_image(image_path, target_size=(32, 32), grayscale=False):\n",
    "\n",
    "    # Load the image\n",
    "    img = cv2.imread(image_path)\n",
    "\n",
    "    # Check if the image is loaded correctly\n",
    "    if img is None:\n",
    "        print(f\"Error loading image: {image_path}\")\n",
    "        return None\n",
    "\n",
    "    # Convert to grayscale if specified\n",
    "    if grayscale:\n",
    "        img = cv2.cvtColor(img, cv2.COLOR_BGR2GRAY)  # Convert to grayscale\n",
    "    \n",
    "    # Resize the image\n",
    "    img = cv2.resize(img, target_size)  # Resize to target size\n",
    "    \n",
    "    # Normalize the image to [0, 1] by dividing by 255\n",
    "    img = img_to_array(img) / 255.0\n",
    "\n",
    "    return img\n"
   ]
  },
  {
   "cell_type": "code",
   "execution_count": 71,
   "id": "f8f0f1c3-8f2d-4258-88df-fcbab90f79a6",
   "metadata": {},
   "outputs": [
    {
     "name": "stdout",
     "output_type": "stream",
     "text": [
      "Conversion completed. Check the directory for PNG files.\n"
     ]
    }
   ],
   "source": [
    "import os\n",
    "\n",
    "# Set the directory containing .xcf files\n",
    "dataset_path = \"GermanExtractedFiles/TrainIJCNN2013/TrainIJCNN2013/\"\n",
    "\n",
    "# Convert each .xcf file to .png\n",
    "for file in os.listdir(dataset_path):\n",
    "    if file.endswith(\".GIMP\") or file.endswith(\".xcf\"):  # Find GIMP files\n",
    "        xcf_path = os.path.join(dataset_path, file)\n",
    "        png_path = os.path.join(dataset_path, file.replace(\".GIMP\", \".png\").replace(\".xcf\", \".png\"))\n",
    "        \n",
    "        # Run GIMP command-line to convert .xcf to .png\n",
    "        os.system(f\"gimp -i -b '(let* ((image (car (gimp-file-load RUN-NONINTERACTIVE \\\"{xcf_path}\\\" \\\"{xcf_path}\\\")))) (gimp-file-save RUN-NONINTERACTIVE image (car (gimp-image-get-active-layer image)) \\\"{png_path}\\\" \\\"{png_path}\\\"))' -b '(gimp-quit 0)'\")\n",
    "\n",
    "print(\"Conversion completed. Check the directory for PNG files.\")\n"
   ]
  },
  {
   "cell_type": "code",
   "execution_count": 73,
   "id": "7ed7446b-e94f-4959-b4d9-c26594e02889",
   "metadata": {},
   "outputs": [
    {
     "name": "stdout",
     "output_type": "stream",
     "text": [
      "Conversion completed. Check the directory for PNG files.\n"
     ]
    }
   ],
   "source": [
    "import os\n",
    "\n",
    "# Set the directory containing .xcf files\n",
    "dataset_path = \"GermanExtractedFiles/TestIJCNN2013/TestIJCNN2013Download\"\n",
    "\n",
    "# Convert each .xcf file to .png\n",
    "for file in os.listdir(dataset_path):\n",
    "    if file.endswith(\".GIMP\") or file.endswith(\".xcf\"):  # Find GIMP files\n",
    "        xcf_path = os.path.join(dataset_path, file)\n",
    "        png_path = os.path.join(dataset_path, file.replace(\".GIMP\", \".png\").replace(\".xcf\", \".png\"))\n",
    "        \n",
    "        # Run GIMP command-line to convert .xcf to .png\n",
    "        os.system(f\"gimp -i -b '(let* ((image (car (gimp-file-load RUN-NONINTERACTIVE \\\"{xcf_path}\\\" \\\"{xcf_path}\\\")))) (gimp-file-save RUN-NONINTERACTIVE image (car (gimp-image-get-active-layer image)) \\\"{png_path}\\\" \\\"{png_path}\\\"))' -b '(gimp-quit 0)'\")\n",
    "\n",
    "print(\"Conversion completed. Check the directory for PNG files.\")\n"
   ]
  },
  {
   "cell_type": "code",
   "execution_count": 75,
   "id": "d7f29d42-21b8-4ae3-be3a-669db8f3ed1f",
   "metadata": {},
   "outputs": [
    {
     "name": "stdout",
     "output_type": "stream",
     "text": [
      "Processed 0 images. Shape: (0,)\n"
     ]
    }
   ],
   "source": [
    "import cv2\n",
    "import numpy as np\n",
    "import matplotlib.pyplot as plt\n",
    "from tensorflow.keras.preprocessing.image import img_to_array\n",
    "\n",
    "def preprocess_image(image_path, target_size=(32, 32), grayscale=False):\n",
    "\n",
    "    # Load the image\n",
    "    img = cv2.imread(image_path)\n",
    "\n",
    "    # Check if the image is loaded correctly\n",
    "    if img is None:\n",
    "        print(f\"Error loading image: {image_path}\")\n",
    "        return None\n",
    "\n",
    "    # Convert to grayscale if specified\n",
    "    if grayscale:\n",
    "        img = cv2.cvtColor(img, cv2.COLOR_BGR2GRAY)  # Convert to grayscale\n",
    "    \n",
    "    # Resize the image\n",
    "    img = cv2.resize(img, target_size)  # Resize to target size\n",
    "    \n",
    "    # Normalize the image to [0, 1] by dividing by 255\n",
    "    img = img_to_array(img) / 255.0\n",
    "\n",
    "    return img\n",
    "\n",
    "# Define the path to the dataset folder (adjust based on your local setup)\n",
    "dataset_path = \"GermanExtractedFiles/TestIJCNN2013/TestIJCNN2013Download\"\n",
    "\n",
    "# List all image files in the dataset directory\n",
    "image_files = [f for f in os.listdir(dataset_path) if f.lower().endswith(('.png', '.jpg', '.jpeg'))]\n",
    "\n",
    "# Preprocess all images\n",
    "processed_images = []\n",
    "for image_file in image_files:\n",
    "    image_path = os.path.join(dataset_path, image_file)\n",
    "    processed_img = preprocess_image(image_path, target_size=(32, 32), grayscale=False)  # RGB images\n",
    "    if processed_img is not None:\n",
    "        processed_images.append(processed_img)\n",
    "\n",
    "# Convert to a NumPy array\n",
    "processed_images = np.array(processed_images)\n",
    "\n",
    "# Display the shape of the processed images\n",
    "print(f\"Processed {len(processed_images)} images. Shape: {processed_images.shape}\")\n"
   ]
  },
  {
   "cell_type": "code",
   "execution_count": null,
   "id": "79a230f7-f155-4ad0-9cb0-577e895d209c",
   "metadata": {},
   "outputs": [],
   "source": []
  }
 ],
 "metadata": {
  "kernelspec": {
   "display_name": "Python [conda env:base] *",
   "language": "python",
   "name": "conda-base-py"
  },
  "language_info": {
   "codemirror_mode": {
    "name": "ipython",
    "version": 3
   },
   "file_extension": ".py",
   "mimetype": "text/x-python",
   "name": "python",
   "nbconvert_exporter": "python",
   "pygments_lexer": "ipython3",
   "version": "3.12.7"
  }
 },
 "nbformat": 4,
 "nbformat_minor": 5
}
