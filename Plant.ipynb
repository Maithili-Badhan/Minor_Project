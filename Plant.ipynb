{
 "cells": [
  {
   "cell_type": "code",
   "execution_count": 1,
   "id": "64370860-7085-4fa7-a60e-ceaf1fbc3833",
   "metadata": {},
   "outputs": [],
   "source": [
    "#DATA PREPROCESSING"
   ]
  },
  {
   "cell_type": "code",
   "execution_count": 3,
   "id": "7f9c51c1-3eb5-4ed0-bc10-166f8aaa818a",
   "metadata": {},
   "outputs": [],
   "source": [
    "#Resize/crop images, normalize pixel values, handle color channels."
   ]
  },
  {
   "cell_type": "code",
   "execution_count": null,
   "id": "cf75ccb0-abcb-45a7-b98f-b1f17ae4e71d",
   "metadata": {},
   "outputs": [],
   "source": [
    "### Data Preprocessing in Short  \n",
    "Data preprocessing is the crucial step in machine learning where raw data is cleaned and transformed into a usable format. It includes:  \n",
    "\n",
    "1. **Handling Missing Values** – Filling or removing missing data.  \n",
    "2. **Data Cleaning** – Removing duplicates, fixing inconsistencies.  \n",
    "3. **Feature Scaling** – Normalization or standardization for consistency.  \n",
    "4. **Encoding Categorical Data** – Converting categorical variables into numerical format (One-Hot Encoding, Label Encoding).  \n",
    "5. **Feature Selection** – Choosing the most relevant features to improve model performance.  \n",
    "6. **Data Splitting** – Dividing data into training, validation, and test sets.  \n",
    "\n",
    "Preprocessing ensures better accuracy and efficiency in machine learning models. 🚀"
   ]
  },
  {
   "cell_type": "code",
   "execution_count": 5,
   "id": "14771b93-c62a-49c7-a73b-517662f8b819",
   "metadata": {},
   "outputs": [
    {
     "name": "stdout",
     "output_type": "stream",
     "text": [
      "Directory 'ExtractedFiles' already exists. Skipping extraction.\n"
     ]
    }
   ],
   "source": [
    "import zipfile\n",
    "import os\n",
    "from PIL import Image\n",
    "import numpy as np\n",
    "\n",
    "# Step 1: Extract the ZIP file\n",
    "zip_file_path = 'PlantVillageDataset.zip'  # Replace with your ZIP file path\n",
    "extract_dir = 'ExtractedFiles'  # Directory to extract files\n",
    "\n",
    "# Extract the ZIP file\n",
    "if not os.path.exists(extract_dir):  # Avoid re-extraction if already done\n",
    "    with zipfile.ZipFile(zip_file_path, 'r') as zip_ref:\n",
    "        zip_ref.extractall(extract_dir)\n",
    "    print(f\"ZIP file extracted to '{extract_dir}'!\")\n",
    "else:\n",
    "    print(f\"Directory '{extract_dir}' already exists. Skipping extraction.\")"
   ]
  },
  {
   "cell_type": "code",
   "execution_count": null,
   "id": "e3436c73-c7bd-4515-a1c5-6cd233931d45",
   "metadata": {},
   "outputs": [],
   "source": [
    "import zipfile\n",
    "import os\n",
    "from PIL import Image\n",
    "import numpy as np\n",
    "\n",
    "# Step 1: Extract the ZIP file\n",
    "zip_file_path = 'PlantVillageDataset.zip'  # Replace with your ZIP file path\n",
    "extract_dir = 'ExtractedFiles'  # Directory to extract files\n",
    "\n",
    "# Extract the ZIP file\n",
    "if not os.path.exists(extract_dir):  # Avoid re-extraction if already done\n",
    "    with zipfile.ZipFile(zip_file_path, 'r') as zip_ref:\n",
    "        zip_ref.extractall(extract_dir)\n",
    "    print(f\"ZIP file extracted to '{extract_dir}'!\")\n",
    "else:\n",
    "    print(f\"Directory '{extract_dir}' already exists. Skipping extraction.\")"
   ]
  },
  {
   "cell_type": "code",
   "execution_count": null,
   "id": "0f160972",
   "metadata": {},
   "outputs": [],
   "source": []
  }
 ],
 "metadata": {
  "kernelspec": {
   "display_name": "Python 3",
   "language": "python",
   "name": "python3"
  },
  "language_info": {
   "codemirror_mode": {
    "name": "ipython",
    "version": 3
   },
   "file_extension": ".py",
   "mimetype": "text/x-python",
   "name": "python",
   "nbconvert_exporter": "python",
   "pygments_lexer": "ipython3",
   "version": "3.13.1"
  }
 },
 "nbformat": 4,
 "nbformat_minor": 5
}
